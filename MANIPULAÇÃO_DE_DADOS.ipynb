{
  "nbformat": 4,
  "nbformat_minor": 0,
  "metadata": {
    "colab": {
      "name": "MANIPULAÇÃO DE DADOS.ipynb",
      "provenance": [],
      "collapsed_sections": [],
      "authorship_tag": "ABX9TyMp+UnbyKEblf8MV1OjZTpp",
      "include_colab_link": true
    },
    "kernelspec": {
      "name": "python3",
      "display_name": "Python 3"
    },
    "language_info": {
      "name": "python"
    }
  },
  "cells": [
    {
      "cell_type": "markdown",
      "metadata": {
        "id": "view-in-github",
        "colab_type": "text"
      },
      "source": [
        "<a href=\"https://colab.research.google.com/github/Thiagomoreira97/Manipula-o-de-dados-em-arquivos-txt/blob/main/MANIPULA%C3%87%C3%83O_DE_DADOS.ipynb\" target=\"_parent\"><img src=\"https://colab.research.google.com/assets/colab-badge.svg\" alt=\"Open In Colab\"/></a>"
      ]
    },
    {
      "cell_type": "markdown",
      "source": [
        "Implementação de um programa para manipular dadps de um arquivo texto e vizualiza-los em um histograma e em uma nuvem de palavras."
      ],
      "metadata": {
        "id": "8Pyc2uEGNs8B"
      }
    },
    {
      "cell_type": "code",
      "execution_count": null,
      "metadata": {
        "id": "wZuytyikYFgr"
      },
      "outputs": [],
      "source": [
        "!pip install faker"
      ]
    },
    {
      "cell_type": "code",
      "source": [
        "!pip install wordcloud"
      ],
      "metadata": {
        "id": "zOmXQQkxqgl7"
      },
      "execution_count": null,
      "outputs": []
    },
    {
      "cell_type": "code",
      "source": [
        "from faker import Faker\n",
        "F = Faker()\n",
        "dir(F)"
      ],
      "metadata": {
        "id": "zkSCZUruqnnx"
      },
      "execution_count": null,
      "outputs": []
    },
    {
      "cell_type": "code",
      "source": [
        "from faker import Faker\n",
        "fake = Faker('pt_BR')\n",
        "\n",
        "for i in range(10):\n",
        "    numero = fake.random_int(1,10)\n",
        "    nome = fake.name()\n",
        "    print(numero, nome)"
      ],
      "metadata": {
        "id": "w_H964UvqsBC"
      },
      "execution_count": null,
      "outputs": []
    },
    {
      "cell_type": "code",
      "source": [
        "from faker import Faker\n",
        "fake = Faker('pt_BR')\n",
        "with open('saida.txt','w') as f:\n",
        "  for i in range(10):\n",
        "    numero = fake.random_int(1,10)\n",
        "    nome = fake.name()\n",
        "    f.write(str(numero) + ' - '+ nome + '\\n')\n",
        "    print(str(numero) + ' - '+ nome + '\\n')\n",
        "f.close()"
      ],
      "metadata": {
        "colab": {
          "base_uri": "https://localhost:8080/"
        },
        "id": "7-dpmpGztfaV",
        "outputId": "0ae017dd-7157-4782-e49e-04fc40f0ba62"
      },
      "execution_count": 135,
      "outputs": [
        {
          "output_type": "stream",
          "name": "stdout",
          "text": [
            "2 - Melissa Pinto\n",
            "\n",
            "6 - Isadora Melo\n",
            "\n",
            "4 - Kamilly Fernandes\n",
            "\n",
            "10 - Lorenzo da Mata\n",
            "\n",
            "10 - Sra. Giovanna da Rosa\n",
            "\n",
            "2 - Pietro Rodrigues\n",
            "\n",
            "5 - Bruno da Cunha\n",
            "\n",
            "1 - Samuel Pinto\n",
            "\n",
            "9 - Juan Jesus\n",
            "\n",
            "6 - Dra. Ana Rodrigues\n",
            "\n"
          ]
        }
      ]
    },
    {
      "cell_type": "code",
      "source": [
        "my_file = open('saida.txt')\n",
        "my_file.read()"
      ],
      "metadata": {
        "colab": {
          "base_uri": "https://localhost:8080/",
          "height": 53
        },
        "id": "mGJ7yHqyIdpU",
        "outputId": "919b6c95-99c0-41a0-f352-08908fbd4d88"
      },
      "execution_count": 129,
      "outputs": [
        {
          "output_type": "execute_result",
          "data": {
            "text/plain": [
              "'3 - Maria Julia Nogueira\\n2 - Maitê Nogueira\\n1 - Lucas Fernandes\\n9 - Julia Nunes\\n8 - Larissa Sales\\n7 - Luna Nascimento\\n9 - Mirella Pires\\n5 - Heloísa Ribeiro\\n10 - Dra. Maria Fernanda Pereira\\n8 - Francisco Cunha\\n'"
            ],
            "application/vnd.google.colaboratory.intrinsic+json": {
              "type": "string"
            }
          },
          "metadata": {},
          "execution_count": 129
        }
      ]
    },
    {
      "cell_type": "code",
      "source": [
        "arquivo = open('saida.txt')\n",
        "numeros = []\n",
        "for line in arquivo:\n",
        "  numeros.insert(i,int(line[0:2]))\n",
        "print(numeros)"
      ],
      "metadata": {
        "colab": {
          "base_uri": "https://localhost:8080/"
        },
        "id": "6Uzs3a6ottML",
        "outputId": "f7ed11db-4981-4b09-bc28-c72fcd6c5cea"
      },
      "execution_count": 136,
      "outputs": [
        {
          "output_type": "stream",
          "name": "stdout",
          "text": [
            "[2, 6, 4, 10, 10, 2, 5, 1, 9, 6]\n"
          ]
        }
      ]
    },
    {
      "cell_type": "code",
      "source": [
        "plt.grid(axis='y')\n",
        "plt.xlabel('Notas')\n",
        "plt.ylabel('Quantidade')\n",
        "plt.title('Notas turma')\n",
        "plt.ylim(0,10)\n",
        "plt.hist(numeros)\n",
        "plt.show()"
      ],
      "metadata": {
        "colab": {
          "base_uri": "https://localhost:8080/",
          "height": 295
        },
        "id": "ufAdTSnz6lL4",
        "outputId": "65c49496-5f4c-42e0-a51d-ddffc59062ff"
      },
      "execution_count": 137,
      "outputs": [
        {
          "output_type": "display_data",
          "data": {
            "text/plain": [
              "<Figure size 432x288 with 1 Axes>"
            ],
            "image/png": "[encoded data removed]"
          },
          "metadata": {
            "needs_background": "light"
          }
        }
      ]
    },
    {
      "cell_type": "code",
      "source": [
        "from wordcloud import WordCloud\n",
        "arquivo = open('saida.txt')\n",
        "numeros = ''\n",
        "for line in arquivo:\n",
        "  num = int(line[0:2])\n",
        "  if (num == 1):\n",
        "    numeros = numeros + 'um ,'\n",
        "  elif (num == 2):\n",
        "    numeros = numeros + 'dois ,'\n",
        "  elif (num == 3):\n",
        "    numeros = numeros + 'três ,'\n",
        "  elif (num == 4):\n",
        "    numeros = numeros + 'quatro ,'\n",
        "  elif (num == 5):\n",
        "    numeros = numeros + 'cinco ,'\n",
        "  elif (num == 6):\n",
        "    numeros = numeros + 'seis ,'\n",
        "  elif (num == 7):\n",
        "    numeros = numeros + 'sete ,'\n",
        "  elif (num == 8):\n",
        "    numeros = numeros + 'oito ,'\n",
        "  elif (num == 9):\n",
        "    numeros = numeros + 'nove ,'\n",
        "  elif (num == 10):\n",
        "    numeros = numeros + 'dez ,'\n",
        "\n",
        "print(numeros)\n",
        "nuvem_palavras = WordCloud(background_color='grey',width=800,height=400).generate(numeros)\n",
        "plt.imshow(nuvem_palavras, interpolation='bilinear')\n",
        "plt.axis(\"off\")\n",
        "nuvem_palavras.to_file(\"Nuvem de palavras.png\")"
      ],
      "metadata": {
        "colab": {
          "base_uri": "https://localhost:8080/",
          "height": 233
        },
        "id": "1Gx3kevbMR0W",
        "outputId": "851adf43-4f39-4c94-98fc-f098959fab49"
      },
      "execution_count": 138,
      "outputs": [
        {
          "output_type": "stream",
          "name": "stdout",
          "text": [
            "dois ,seis ,quatro ,dez ,dez ,dois ,cinco ,um ,nove ,seis ,\n"
          ]
        },
        {
          "output_type": "execute_result",
          "data": {
            "text/plain": [
              "<wordcloud.wordcloud.WordCloud at 0x7f3864bd9350>"
            ]
          },
          "metadata": {},
          "execution_count": 138
        },
        {
          "output_type": "display_data",
          "data": {
            "text/plain": [
              "<Figure size 432x288 with 1 Axes>"
            ],
            "image/png": "[encoded data removed]"
          },
          "metadata": {
            "needs_background": "light"
          }
        }
      ]
    }
  ]
}